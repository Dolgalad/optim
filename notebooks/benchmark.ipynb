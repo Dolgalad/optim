{
 "cells": [
  {
   "cell_type": "markdown",
   "metadata": {},
   "source": [
    "# Benchmarking tests"
   ]
  },
  {
   "cell_type": "code",
   "execution_count": 1,
   "metadata": {},
   "outputs": [],
   "source": [
    "from optim.blackbox.random import RandomOptimizer, NelderMead\n",
    "from optim.blackbox.cmaes import CMAES\n",
    "from optim.benchmark import benchmark"
   ]
  },
  {
   "cell_type": "code",
   "execution_count": 2,
   "metadata": {},
   "outputs": [
    {
     "name": "stdout",
     "output_type": "stream",
     "text": [
      "[0.12805432 0.36673915]\n",
      "0- Rastrigin : 0.3743742824265068\n",
      "0- Ackley : 0.40863220675463874\n",
      "0- Sphere : 0.3842725420604841\n",
      "0- Rosenbrock : 1.0120442312037883\n",
      "0- Beale : 2.9494893219183647\n",
      "0- GoldsteinPrice : 1.3739877537029854\n",
      "0- Booth : 2.7703076054040285\n",
      "0- Bukin6 : 1.0932790166068753\n",
      "0- Matyas : 0.371215684304167\n",
      "0- Levi13 : 1.6227465828059824\n",
      "0- Himmelblau : 4.036399583475624\n",
      "0- ThreeHumpCamel : 0.40636068797053315\n",
      "0- Easom : 4.100905347501609\n",
      "0- CrossInTray : 1.7876250169655628\n",
      "0- Eggholder : 27.002564491448698\n",
      "0- HolderTable : 1.2105133310114466\n",
      "0- McCormick : 175.0972737720131\n",
      "0- Schaffer2 : 0.3734648732890492\n",
      "0- Schaffer4 : 1.4420728468318984\n",
      "0- StyblinskiTang : 3.524478172943919\n"
     ]
    }
   ],
   "source": [
    "from optim.utils import print_dict\n",
    "import numpy as np\n",
    "\n",
    "optimizer = RandomOptimizer()\n",
    "x0 = np.random.random_sample(2)\n",
    "print(x0)\n",
    "print_dict(benchmark(optimizer, x0))"
   ]
  },
  {
   "cell_type": "code",
   "execution_count": null,
   "metadata": {},
   "outputs": [],
   "source": []
  },
  {
   "cell_type": "code",
   "execution_count": null,
   "metadata": {},
   "outputs": [],
   "source": []
  }
 ],
 "metadata": {
  "kernelspec": {
   "display_name": "optim_venv",
   "language": "python",
   "name": "optim_venv"
  },
  "language_info": {
   "codemirror_mode": {
    "name": "ipython",
    "version": 3
   },
   "file_extension": ".py",
   "mimetype": "text/x-python",
   "name": "python",
   "nbconvert_exporter": "python",
   "pygments_lexer": "ipython3",
   "version": "3.8.10"
  }
 },
 "nbformat": 4,
 "nbformat_minor": 4
}

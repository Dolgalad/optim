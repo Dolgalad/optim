{
 "cells": [
  {
   "cell_type": "code",
   "execution_count": 1,
   "metadata": {},
   "outputs": [],
   "source": [
    "import sys\n",
    "sys.path.append(\"..\")\n",
    "import numpy as np\n",
    "import scipy.optimize\n",
    "\n",
    "\n",
    "from optim.tex_utils import *\n",
    "from optim.problems.linear_program import LinearProgram\n",
    "\n",
    "from IPython.display import display, Math, Latex"
   ]
  },
  {
   "cell_type": "code",
   "execution_count": 2,
   "metadata": {},
   "outputs": [
    {
     "data": {
      "text/plain": [
       "array([[1., 0., 0.],\n",
       "       [0., 1., 0.],\n",
       "       [0., 0., 1.]])"
      ]
     },
     "execution_count": 2,
     "metadata": {},
     "output_type": "execute_result"
    }
   ],
   "source": [
    "A = np.eye(3)\n",
    "A"
   ]
  },
  {
   "cell_type": "code",
   "execution_count": 3,
   "metadata": {},
   "outputs": [
    {
     "data": {
      "text/latex": [
       "$\\displaystyle \\left(\\begin{array}{ccc}1&0&0\\\\0&1&0\\\\0&0&1\\end{array}\\right)$"
      ],
      "text/plain": [
       "<IPython.core.display.Math object>"
      ]
     },
     "execution_count": 3,
     "metadata": {},
     "output_type": "execute_result"
    }
   ],
   "source": [
    "Math(array_to_tex(A))"
   ]
  },
  {
   "cell_type": "code",
   "execution_count": 4,
   "metadata": {},
   "outputs": [
    {
     "data": {
      "text/latex": [
       "$\\displaystyle \\left(\\begin{array}{ccc}1&0&0\\\\0&1&0\\\\0&0&1\\end{array}\\right)x \\leq\\left(\\begin{array}{c}3\\\\3\\\\3\\end{array}\\right)$"
      ],
      "text/plain": [
       "<IPython.core.display.Math object>"
      ]
     },
     "execution_count": 4,
     "metadata": {},
     "output_type": "execute_result"
    }
   ],
   "source": [
    "Math(array_to_tex(A) + r\"x \\leq\" + array_to_tex(3*np.ones(3)))"
   ]
  },
  {
   "cell_type": "code",
   "execution_count": 5,
   "metadata": {},
   "outputs": [
    {
     "data": {
      "text/latex": [
       "$\\displaystyle \\left(\\begin{array}{ccc}3&3&3\\end{array}\\right)$"
      ],
      "text/plain": [
       "<IPython.core.display.Math object>"
      ]
     },
     "execution_count": 5,
     "metadata": {},
     "output_type": "execute_result"
    }
   ],
   "source": [
    "Math(array_to_tex(3*np.ones(3), vertical=False))"
   ]
  },
  {
   "cell_type": "code",
   "execution_count": 27,
   "metadata": {},
   "outputs": [
    {
     "name": "stdout",
     "output_type": "stream",
     "text": [
      "0\n"
     ]
    },
    {
     "name": "stderr",
     "output_type": "stream",
     "text": [
      "<ipython-input-27-ea8054a48e20>:10: OptimizeWarning: A_eq does not appear to be of full row rank. To improve performance, check the problem formulation for redundant equality constraints.\n",
      "  res = scipy.optimize.linprog(lp.c, A_ub=lp.A_ub, b_ub=lp.b_ub,\n"
     ]
    },
    {
     "data": {
      "text/plain": [
       "     con: array([0., 0., 0.])\n",
       "     fun: 0.0\n",
       " message: 'Optimization terminated successfully.'\n",
       "     nit: 4\n",
       "   slack: array([0., 0., 1.])\n",
       "  status: 0\n",
       " success: True\n",
       "       x: array([0., 0., 1.])"
      ]
     },
     "execution_count": 27,
     "metadata": {},
     "output_type": "execute_result"
    }
   ],
   "source": [
    "nmax = 2\n",
    "c=0\n",
    "while True:\n",
    "    lp = LinearProgram(np.random.randint(0,nmax, size=3), \n",
    "                   A_eq=np.random.randint(0,nmax,size=(3,3)), \n",
    "                   b_eq=np.random.randint(0,nmax,size=3),\n",
    "                   A_ub=np.random.randint(0,nmax,size=(3,3)), \n",
    "                   b_ub=np.random.randint(0,nmax,size=3),\n",
    "                   bounds = [None,np.random.randint(0,nmax,size=3)])\n",
    "    res = scipy.optimize.linprog(lp.c, A_ub=lp.A_ub, b_ub=lp.b_ub,\n",
    "                            A_eq=lp.A_eq, b_eq=lp.b_eq,\n",
    "                            bounds=bs,\n",
    "                            method=\"simplex\")\n",
    "    if res.success:\n",
    "        break\n",
    "    c+=1\n",
    "print(c)\n",
    "res"
   ]
  },
  {
   "cell_type": "code",
   "execution_count": 28,
   "metadata": {},
   "outputs": [
    {
     "data": {
      "text/latex": [
       "$\\displaystyle \\begin{array}{cl}\\min\\limits_{x \\in \\mathbb{R}^3} & \\left(\\begin{array}{ccc}1&0&0\\end{array}\\right) \\left(\\begin{array}{c}x_{1}\\\\x_{2}\\\\x_{3}\\end{array}\\right) \\\\\\mbox{st.} & \\left(\\begin{array}{ccc}0&0&1\\\\0&0&0\\\\1&1&0\\end{array}\\right) \\left(\\begin{array}{c}x_{1}\\\\x_{2}\\\\x_{3}\\end{array}\\right)\\leq \\left(\\begin{array}{c}1\\\\0\\\\1\\end{array}\\right)\\\\ & \\left(\\begin{array}{ccc}1&1&0\\\\1&0&1\\\\1&1&0\\end{array}\\right) \\left(\\begin{array}{c}x_{1}\\\\x_{2}\\\\x_{3}\\end{array}\\right) = \\left(\\begin{array}{c}0\\\\1\\\\0\\end{array}\\right)\\\\ & \\left(\\begin{array}{c}x_{1}\\\\x_{2}\\\\x_{3}\\end{array}\\right) \\leq \\left(\\begin{array}{c}1\\\\0\\\\0\\end{array}\\right)\\end{array}$"
      ],
      "text/plain": [
       "<IPython.core.display.Math object>"
      ]
     },
     "execution_count": 28,
     "metadata": {},
     "output_type": "execute_result"
    }
   ],
   "source": [
    "Math(lp._tex_repr_())"
   ]
  },
  {
   "cell_type": "code",
   "execution_count": 29,
   "metadata": {},
   "outputs": [
    {
     "data": {
      "text/latex": [
       "$\\displaystyle \\begin{array}{cl}\\min\\limits_{x \\in \\mathbb{R}^3} & \\left(\\begin{array}{ccc}1&0&0\\end{array}\\right) \\left(\\begin{array}{c}x_{1}\\\\x_{2}\\\\x_{3}\\end{array}\\right) \\\\\\mbox{st.} & \\left(\\begin{array}{ccc}0&0&1\\\\0&0&0\\\\1&1&0\\\\1&1&0\\\\1&0&1\\\\1&1&0\\\\-1&-1&0\\\\-1&0&-1\\\\-1&-1&0\\\\1&0&0\\\\0&1&0\\\\0&0&1\\end{array}\\right) \\left(\\begin{array}{c}x_{1}\\\\x_{2}\\\\x_{3}\\end{array}\\right)\\leq \\left(\\begin{array}{c}1\\\\0\\\\1\\\\0\\\\1\\\\0\\\\0\\\\-1\\\\0\\\\1\\\\0\\\\0\\end{array}\\right)\\\\ & x \\geq 0\\end{array}$"
      ],
      "text/plain": [
       "<IPython.core.display.Math object>"
      ]
     },
     "execution_count": 29,
     "metadata": {},
     "output_type": "execute_result"
    }
   ],
   "source": [
    "clp = lp.canonical_form()\n",
    "Math(clp._tex_repr_())"
   ]
  },
  {
   "cell_type": "code",
   "execution_count": 30,
   "metadata": {},
   "outputs": [
    {
     "data": {
      "text/latex": [
       "$\\displaystyle \\begin{array}{cl}\\min\\limits_{x \\in \\mathbb{R}^7} & \\left(\\begin{array}{ccccccc}1&0&0&0&0&0&0\\end{array}\\right) \\left(\\begin{array}{c}x_{1}\\\\x_{2}\\\\x_{3}\\\\x_{4}\\\\x_{5}\\\\x_{6}\\\\x_{7}\\end{array}\\right) \\\\ & \\left(\\begin{array}{ccccccc}1&-1&0&0&0&0&0\\\\0&0&0&1&1&0&0\\\\0&0&0&0&0&1&0\\\\0&1&1&0&0&0&1\\\\0&1&1&0&0&0&0\\\\0&1&0&1&0&0&0\\\\0&1&1&0&0&0&0\\end{array}\\right) \\left(\\begin{array}{c}x_{1}\\\\x_{2}\\\\x_{3}\\\\x_{4}\\\\x_{5}\\\\x_{6}\\\\x_{7}\\end{array}\\right) = \\left(\\begin{array}{c}0\\\\1\\\\0\\\\1\\\\0\\\\1\\\\0\\end{array}\\right)\\\\ & x \\geq 0\\end{array}$"
      ],
      "text/plain": [
       "<IPython.core.display.Math object>"
      ]
     },
     "execution_count": 30,
     "metadata": {},
     "output_type": "execute_result"
    }
   ],
   "source": [
    "alp = lp.augmented_form()\n",
    "Math(alp._tex_repr_())"
   ]
  },
  {
   "cell_type": "code",
   "execution_count": 31,
   "metadata": {},
   "outputs": [
    {
     "name": "stderr",
     "output_type": "stream",
     "text": [
      "<ipython-input-31-b820e49be067>:1: OptimizeWarning: A_eq does not appear to be of full row rank. To improve performance, check the problem formulation for redundant equality constraints.\n",
      "  res = scipy.optimize.linprog(lp.c, A_ub=lp.A_ub, b_ub=lp.b_ub,\n"
     ]
    },
    {
     "data": {
      "text/plain": [
       "     con: array([0., 0., 0.])\n",
       "     fun: 0.0\n",
       " message: 'Optimization terminated successfully.'\n",
       "     nit: 4\n",
       "   slack: array([0., 0., 1.])\n",
       "  status: 0\n",
       " success: True\n",
       "       x: array([0., 0., 1.])"
      ]
     },
     "execution_count": 31,
     "metadata": {},
     "output_type": "execute_result"
    }
   ],
   "source": [
    "res = scipy.optimize.linprog(lp.c, A_ub=lp.A_ub, b_ub=lp.b_ub,\n",
    "                            A_eq=lp.A_eq, b_eq=lp.b_eq,\n",
    "                            \n",
    "                            method=\"simplex\")\n",
    "res"
   ]
  },
  {
   "cell_type": "code",
   "execution_count": 25,
   "metadata": {},
   "outputs": [
    {
     "data": {
      "text/plain": [
       "     con: array([], dtype=float64)\n",
       "     fun: 0.0\n",
       " message: 'The problem is (trivially) infeasible because a singleton row in the upper bound constraints is inconsistent with the bounds.'\n",
       "     nit: 0\n",
       "   slack: array([ 1.,  1.,  0.,  0.,  1.,  0.,  0., -1.,  0., -1., -1., -1.])\n",
       "  status: 2\n",
       " success: False\n",
       "       x: array([0., 0., 0.])"
      ]
     },
     "execution_count": 25,
     "metadata": {},
     "output_type": "execute_result"
    }
   ],
   "source": [
    "cres = scipy.optimize.linprog(clp.c, A_ub=clp.A_ub, b_ub=clp.b_ub,\n",
    "                             method=\"simplex\")\n",
    "cres"
   ]
  },
  {
   "cell_type": "code",
   "execution_count": 26,
   "metadata": {},
   "outputs": [
    {
     "data": {
      "text/plain": [
       "     con: array([0., 0., 0., 0., 0., 0., 0.])\n",
       "     fun: 1.0\n",
       " message: 'Optimization terminated successfully.'\n",
       "     nit: 6\n",
       "   slack: array([], dtype=float64)\n",
       "  status: 0\n",
       " success: True\n",
       "       x: array([1., 0., 1., 0., 0., 0., 0.])"
      ]
     },
     "execution_count": 26,
     "metadata": {},
     "output_type": "execute_result"
    }
   ],
   "source": [
    "ares = scipy.optimize.linprog(alp.c, A_eq=alp.A_eq, b_eq=alp.b_eq,\n",
    "                             method=\"simplex\")\n",
    "ares"
   ]
  },
  {
   "cell_type": "code",
   "execution_count": null,
   "metadata": {},
   "outputs": [],
   "source": []
  }
 ],
 "metadata": {
  "kernelspec": {
   "display_name": "Python 3",
   "language": "python",
   "name": "python3"
  },
  "language_info": {
   "codemirror_mode": {
    "name": "ipython",
    "version": 3
   },
   "file_extension": ".py",
   "mimetype": "text/x-python",
   "name": "python",
   "nbconvert_exporter": "python",
   "pygments_lexer": "ipython3",
   "version": "3.8.10"
  }
 },
 "nbformat": 4,
 "nbformat_minor": 4
}
